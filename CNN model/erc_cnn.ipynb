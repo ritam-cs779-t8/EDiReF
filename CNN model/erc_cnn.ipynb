{
  "nbformat": 4,
  "nbformat_minor": 0,
  "metadata": {
    "colab": {
      "provenance": []
    },
    "kernelspec": {
      "name": "python3",
      "display_name": "Python 3"
    },
    "language_info": {
      "name": "python"
    }
  },
  "cells": [
    {
      "cell_type": "code",
      "execution_count": 1,
      "metadata": {
        "colab": {
          "base_uri": "https://localhost:8080/"
        },
        "id": "ctDp0ucA0gPl",
        "outputId": "224ff67b-a64e-486f-e22a-6ccb3471c711"
      },
      "outputs": [
        {
          "output_type": "stream",
          "name": "stdout",
          "text": [
            "Mounted at /content/drive\n"
          ]
        }
      ],
      "source": [
        "#emotion recognition in conversation (ERC) in hindi english code mixed conversation\n",
        "from google.colab import drive\n",
        "drive.mount('/content/drive')"
      ]
    },
    {
      "cell_type": "code",
      "source": [
        "import torch\n",
        "import torch.nn as nn\n",
        "import torch.optim as optim\n",
        "import torch.nn.functional as F\n",
        "import json\n",
        "import numpy as np\n",
        "import pandas as pd\n",
        "from torchtext import data\n",
        "from torchtext import datasets\n",
        "import matplotlib.pyplot as plt\n",
        "import random\n",
        "import time\n",
        "from sklearn.metrics import confusion_matrix\n",
        "from sklearn.metrics import classification_report\n",
        "from torch.utils.data.dataset import random_split\n",
        "from torchtext.data.functional import to_map_style_dataset\n",
        "from torch.utils.data import DataLoader\n",
        "from torchtext.data.utils import get_tokenizer\n",
        "from torchtext.vocab import build_vocab_from_iterator\n",
        "\n",
        "task1='/content/drive/MyDrive/Task 1/MaSaC_train_erc.json'"
      ],
      "metadata": {
        "id": "3FbtHpEl1CTx"
      },
      "execution_count": 2,
      "outputs": []
    },
    {
      "cell_type": "code",
      "source": [
        "with open(task1, 'r') as file:\n",
        "    data=json.load(file)\n",
        "speakers = []\n",
        "episodes = []\n",
        "utterances = []\n",
        "emotions = []\n",
        "for i in data:\n",
        "  speakers.append(i['speakers'])\n",
        "  episodes.append(i['episode'])\n",
        "  utterances.append(i['utterances'])\n",
        "  emotions.append(i['emotions'])\n",
        "# utterances[0]\n",
        "emo = {'disgust': 1,\n",
        " 'contempt': 2,\n",
        " 'anger': 3,\n",
        " 'neutral': 4,\n",
        " 'joy': 5,\n",
        " 'sadness': 6,\n",
        " 'fear': 7,\n",
        " 'surprise': 8}"
      ],
      "metadata": {
        "id": "k2z2l8cw8HzX"
      },
      "execution_count": 3,
      "outputs": []
    },
    {
      "cell_type": "code",
      "source": [
        "print('no. of episodes : ',len(episodes))\n",
        "print('no. of sentences : ',sum([len(x) for x in speakers]))"
      ],
      "metadata": {
        "id": "yDaUlLsqDFJ0",
        "colab": {
          "base_uri": "https://localhost:8080/"
        },
        "outputId": "84f15ed5-a505-4837-b934-22b6694c9d70"
      },
      "execution_count": 4,
      "outputs": [
        {
          "output_type": "stream",
          "name": "stdout",
          "text": [
            "no. of episodes :  343\n",
            "no. of sentences :  8506\n"
          ]
        }
      ]
    },
    {
      "cell_type": "code",
      "source": [
        "emotion_cnts={}\n",
        "for emotion_list in emotions:\n",
        "  for emotion in emotion_list:\n",
        "    if emotion not in  emotion_cnts:\n",
        "      emotion_cnts[emotion]=1\n",
        "    else:\n",
        "      emotion_cnts[emotion]+=1\n",
        "emotion_cnts"
      ],
      "metadata": {
        "id": "3t8Gh7tG0R7V",
        "colab": {
          "base_uri": "https://localhost:8080/"
        },
        "outputId": "7baeecdf-09ed-4286-e25a-cb599ce0aac8"
      },
      "execution_count": 5,
      "outputs": [
        {
          "output_type": "execute_result",
          "data": {
            "text/plain": [
              "{'disgust': 127,\n",
              " 'contempt': 542,\n",
              " 'anger': 819,\n",
              " 'neutral': 3909,\n",
              " 'joy': 1596,\n",
              " 'sadness': 558,\n",
              " 'fear': 514,\n",
              " 'surprise': 441}"
            ]
          },
          "metadata": {},
          "execution_count": 5
        }
      ]
    },
    {
      "cell_type": "code",
      "source": [
        "class MyDataset:\n",
        "    def __init__(self, data):\n",
        "        self.data = data\n",
        "\n",
        "    def __iter__(self):\n",
        "        for item in self.data:\n",
        "            yield item\n",
        "data_list = []\n",
        "\n",
        "for u,e in zip(utterances,emotions):\n",
        "  for u1,e1 in zip(u,e):\n",
        "    data_list.append((emo[e1],u1))\n",
        "\n",
        "my_dataset = MyDataset(data_list)\n",
        "random.shuffle(data_list)\n",
        "split_ratio = 0.8\n",
        "split_index = int(len(data_list) * split_ratio)\n",
        "print(split_index)\n",
        "train_data = data_list[:split_index]\n",
        "test_data = data_list[split_index:]\n",
        "train_dataset = MyDataset(train_data)\n",
        "test_dataset = MyDataset(test_data)\n",
        "complete_dataset = MyDataset(data_list)"
      ],
      "metadata": {
        "colab": {
          "base_uri": "https://localhost:8080/"
        },
        "id": "iSBwi07dXSyj",
        "outputId": "a5975529-ffee-42d9-8a92-dcd2d30bf3a8"
      },
      "execution_count": 6,
      "outputs": [
        {
          "output_type": "stream",
          "name": "stdout",
          "text": [
            "6804\n"
          ]
        }
      ]
    },
    {
      "cell_type": "code",
      "source": [
        "tokenizer = get_tokenizer(\"basic_english\")\n",
        "train_iter = train_dataset\n",
        "\n",
        "def yield_tokens(data_iter):\n",
        "    for _, text in data_iter:\n",
        "        yield tokenizer(text)\n",
        "\n",
        "\n",
        "vocab = build_vocab_from_iterator(yield_tokens(train_iter), specials=[\"<unk>\"])\n",
        "vocab.set_default_index(vocab[\"<unk>\"])"
      ],
      "metadata": {
        "id": "MEnvVwefQFbt"
      },
      "execution_count": 7,
      "outputs": []
    },
    {
      "cell_type": "code",
      "source": [
        "text_pipeline = lambda x: vocab(tokenizer(x))\n",
        "label_pipeline = lambda x: int(x) - 1"
      ],
      "metadata": {
        "id": "mud24dakTa_H"
      },
      "execution_count": 8,
      "outputs": []
    },
    {
      "cell_type": "code",
      "source": [
        "device = torch.device(\"cuda\" if torch.cuda.is_available() else \"cpu\")\n",
        "\n",
        "def collate_batch(batch):\n",
        "    label_list, text_list, offsets = [], [], [0]\n",
        "    for _label, _text in batch:\n",
        "        label_list.append(label_pipeline(_label))\n",
        "        processed_text = torch.tensor(text_pipeline(_text), dtype=torch.int64)\n",
        "        text_list.append(processed_text)\n",
        "        offsets.append(processed_text.size(0))\n",
        "    label_list = torch.tensor(label_list, dtype=torch.int64)\n",
        "    offsets = torch.tensor(offsets[:-1]).cumsum(dim=0)\n",
        "    text_list = torch.cat(text_list)\n",
        "    return label_list.to(device), text_list.to(device), offsets.to(device)\n",
        "\n",
        "\n",
        "train_iter = train_dataset\n",
        "dataloader = DataLoader(\n",
        "    train_iter, batch_size=8, shuffle=False, collate_fn=collate_batch\n",
        ")"
      ],
      "metadata": {
        "id": "WSeph2eBTb_h"
      },
      "execution_count": 9,
      "outputs": []
    },
    {
      "cell_type": "code",
      "source": [
        "class TextClassificationModel(nn.Module):\n",
        "    def __init__(self, vocab_size, embed_dim, num_classes,in_channels,):\n",
        "        super(TextClassificationModel, self).__init__()\n",
        "        self.embedding = nn.EmbeddingBag(vocab_size, embed_dim, sparse=False)\n",
        "        self.fc = nn.Linear(embed_dim, num_class)\n",
        "        self.conv_layer1 = nn.Conv1d(in_channels, 64, kernel_size=3)\n",
        "        self.conv_layer2 = nn.Conv1d(64, 128, kernel_size=3)\n",
        "        self.relu = nn.ReLU()\n",
        "        self.pool = nn.MaxPool1d(kernel_size=2)\n",
        "        self.fc1 = nn.Linear(7936 , 128)  # Adjust input size based on conv layer output\n",
        "        self.fc2 = nn.Linear(128, num_classes)\n",
        "\n",
        "\n",
        "    def init_weights(self):\n",
        "        initrange = 0.5\n",
        "        self.embedding.weight.data.uniform_(-initrange, initrange)\n",
        "        self.fc.weight.data.uniform_(-initrange, initrange)\n",
        "        self.fc.bias.data.zero_()\n",
        "\n",
        "    def forward(self, text, offsets):\n",
        "        embedded = self.embedding(text, offsets)\n",
        "        embedded = embedded.unsqueeze(dim=1)\n",
        "        # print(embedded.shape)\n",
        "        x = self.conv_layer1(embedded)\n",
        "        x = self.relu(x)\n",
        "        x = self.pool(x)\n",
        "\n",
        "        x = self.conv_layer2(x)\n",
        "        x = self.relu(x)\n",
        "        x = self.pool(x)\n",
        "\n",
        "        x = x.view(x.size(0), -1)\n",
        "        x = self.fc1(x)\n",
        "        x = self.relu(x)\n",
        "        x = self.fc2(x)\n",
        "        return x\n",
        "# class TextClassificationModel(nn.Module):\n",
        "#     def __init__(self, vocab_size, embed_dim, num_class):\n",
        "#         super(TextClassificationModel, self).__init__()\n",
        "#         self.embedding = nn.EmbeddingBag(vocab_size, embed_dim, sparse=False)\n",
        "#         self.fc = nn.Linear(embed_dim, int(embed_dim/2))\n",
        "#         self.dropout = nn.Dropout(p=0.3)\n",
        "#         self.fc1 = nn.Linear(int(embed_dim/2),num_class)\n",
        "#         self.init_weights()\n",
        "\n",
        "#     def init_weights(self):\n",
        "#         initrange = 0.5\n",
        "#         self.embedding.weight.data.uniform_(-initrange, initrange)\n",
        "#         self.fc.weight.data.uniform_(-initrange, initrange)\n",
        "#         self.fc.bias.data.zero_()\n",
        "#         self.fc1.weight.data.uniform_(-initrange, initrange)\n",
        "#         self.fc1.bias.data.zero_()\n",
        "\n",
        "#     def forward(self, text, offsets):\n",
        "#         embedded = self.embedding(text, offsets)\n",
        "#         fc=self.fc(embedded)\n",
        "#         fc=self.dropout(fc)\n",
        "#         fc1=self.fc1(fc)\n",
        "#         return fc1"
      ],
      "metadata": {
        "id": "FFKytTGuUDqA"
      },
      "execution_count": 10,
      "outputs": []
    },
    {
      "cell_type": "code",
      "source": [
        "train_iter = train_dataset\n",
        "num_class = len(set([label for (label, text) in train_iter]))\n",
        "vocab_size = len(vocab)\n",
        "emsize = 256\n",
        "model = TextClassificationModel(vocab_size, emsize, num_class,1).to(device)\n"
      ],
      "metadata": {
        "id": "VGuG8S4pULlm"
      },
      "execution_count": 11,
      "outputs": []
    },
    {
      "cell_type": "code",
      "source": [
        "\n",
        "def train(dataloader):\n",
        "    model.train()\n",
        "    total_acc, total_count = 0, 0\n",
        "    log_interval = 500\n",
        "    start_time = time.time()\n",
        "\n",
        "    for idx, (label, text, offsets) in enumerate(dataloader):\n",
        "        optimizer.zero_grad()\n",
        "        predicted_label = model(text, offsets)\n",
        "        loss = criterion(predicted_label, label)\n",
        "        loss.backward()\n",
        "        torch.nn.utils.clip_grad_norm_(model.parameters(), 0.1)\n",
        "        optimizer.step()\n",
        "        total_acc += (predicted_label.argmax(1) == label).sum().item()\n",
        "        total_count += label.size(0)\n",
        "        if idx % log_interval == 0 and idx > 0:\n",
        "            elapsed = time.time() - start_time\n",
        "            print(\n",
        "                \"| epoch {:3d} | {:5d}/{:5d} batches \"\n",
        "                \"| accuracy {:8.3f}\".format(\n",
        "                    epoch, idx, len(dataloader), total_acc / total_count\n",
        "                )\n",
        "            )\n",
        "            total_acc, total_count = 0, 0\n",
        "            start_time = time.time()\n",
        "\n",
        "\n",
        "def evaluate(dataloader):\n",
        "    model.eval()\n",
        "    total_acc, total_count = 0, 0\n",
        "    pred_labels = []\n",
        "    with torch.no_grad():\n",
        "        for idx, (label, text, offsets) in enumerate(dataloader):\n",
        "            predicted_label = model(text, offsets)\n",
        "            loss = criterion(predicted_label, label)\n",
        "            total_acc += (predicted_label.argmax(1) == label).sum().item()\n",
        "            pred_labels.append(predicted_label.argmax(1))\n",
        "            total_count += label.size(0)\n",
        "    return total_acc / total_count,pred_labels"
      ],
      "metadata": {
        "id": "J5AnGUw1US6b"
      },
      "execution_count": 12,
      "outputs": []
    },
    {
      "cell_type": "code",
      "source": [
        "EPOCHS = 20  # epoch\n",
        "LR = 1# learning rate\n",
        "BATCH_SIZE = 8  # batch size for training\n",
        "labels = []\n",
        "criterion = torch.nn.CrossEntropyLoss()\n",
        "optimizer = torch.optim.SGD(model.parameters(), lr=LR)\n",
        "scheduler = torch.optim.lr_scheduler.StepLR(optimizer, 1.0, gamma=0.1)\n",
        "total_accu = None\n",
        "train_iter, test_iter = train_dataset,test_dataset\n",
        "train_dataset = to_map_style_dataset(train_iter)\n",
        "test_dataset = to_map_style_dataset(test_iter)\n",
        "complete_dataset =to_map_style_dataset(complete_dataset)\n",
        "\n",
        "# num_train = int(len(train_dataset) * 0.95)\n",
        "# split_train_, split_valid_ = random_split(\n",
        "#     train_dataset, [num_train, len(train_dataset) - num_train]\n",
        "# )\n",
        "# print(split_train_)\n",
        "train_dataloader = DataLoader(\n",
        "    train_dataset, batch_size=BATCH_SIZE, shuffle=True, collate_fn=collate_batch\n",
        ")\n",
        "# valid_dataloader = DataLoader(\n",
        "#     split_valid_, batch_size=BATCH_SIZE, shuffle=True, collate_fn=collate_batch\n",
        "# )\n",
        "test_dataloader = DataLoader(\n",
        "    test_dataset, batch_size=BATCH_SIZE, shuffle=True, collate_fn=collate_batch\n",
        ")\n",
        "complete_dataloader = DataLoader(\n",
        "    complete_dataset,batch_size=BATCH_SIZE,shuffle=False,collate_fn=collate_batch\n",
        ")\n",
        "for x,y,z in test_dataloader:\n",
        "  labels.append(x)\n",
        "\n",
        "\n",
        "\n",
        "for epoch in range(1, EPOCHS + 1):\n",
        "    epoch_start_time = time.time()\n",
        "    train(train_dataloader)\n",
        "    accu_val,_ = evaluate(test_dataloader)\n",
        "    if total_accu is not None and total_accu > accu_val:\n",
        "        scheduler.step()\n",
        "    else:\n",
        "        total_accu = accu_val\n",
        "    print(\"-\" * 59)\n",
        "    print(\n",
        "        \"| end of epoch {:3d} | time: {:5.2f}s | \"\n",
        "        \"valid accuracy {:8.3f} \".format(\n",
        "            epoch, time.time() - epoch_start_time, accu_val\n",
        "        )\n",
        "    )\n",
        "    print(\"-\" * 59)"
      ],
      "metadata": {
        "colab": {
          "base_uri": "https://localhost:8080/"
        },
        "id": "lfyzZnXgUXEV",
        "outputId": "f2d2ef5b-3e6c-4ca1-bb6f-b0c1a22ae42d"
      },
      "execution_count": 13,
      "outputs": [
        {
          "output_type": "stream",
          "name": "stdout",
          "text": [
            "| epoch   1 |   500/  851 batches | accuracy    0.469\n",
            "-----------------------------------------------------------\n",
            "| end of epoch   1 | time: 16.41s | valid accuracy    0.416 \n",
            "-----------------------------------------------------------\n",
            "| epoch   2 |   500/  851 batches | accuracy    0.469\n",
            "-----------------------------------------------------------\n",
            "| end of epoch   2 | time: 15.70s | valid accuracy    0.426 \n",
            "-----------------------------------------------------------\n",
            "| epoch   3 |   500/  851 batches | accuracy    0.476\n",
            "-----------------------------------------------------------\n",
            "| end of epoch   3 | time: 15.36s | valid accuracy    0.427 \n",
            "-----------------------------------------------------------\n",
            "| epoch   4 |   500/  851 batches | accuracy    0.488\n",
            "-----------------------------------------------------------\n",
            "| end of epoch   4 | time: 14.88s | valid accuracy    0.429 \n",
            "-----------------------------------------------------------\n",
            "| epoch   5 |   500/  851 batches | accuracy    0.514\n",
            "-----------------------------------------------------------\n",
            "| end of epoch   5 | time: 16.29s | valid accuracy    0.428 \n",
            "-----------------------------------------------------------\n",
            "| epoch   6 |   500/  851 batches | accuracy    0.557\n",
            "-----------------------------------------------------------\n",
            "| end of epoch   6 | time: 14.95s | valid accuracy    0.422 \n",
            "-----------------------------------------------------------\n",
            "| epoch   7 |   500/  851 batches | accuracy    0.569\n",
            "-----------------------------------------------------------\n",
            "| end of epoch   7 | time: 15.55s | valid accuracy    0.425 \n",
            "-----------------------------------------------------------\n",
            "| epoch   8 |   500/  851 batches | accuracy    0.565\n",
            "-----------------------------------------------------------\n",
            "| end of epoch   8 | time: 16.62s | valid accuracy    0.425 \n",
            "-----------------------------------------------------------\n",
            "| epoch   9 |   500/  851 batches | accuracy    0.568\n",
            "-----------------------------------------------------------\n",
            "| end of epoch   9 | time: 15.62s | valid accuracy    0.425 \n",
            "-----------------------------------------------------------\n",
            "| epoch  10 |   500/  851 batches | accuracy    0.567\n",
            "-----------------------------------------------------------\n",
            "| end of epoch  10 | time: 15.89s | valid accuracy    0.425 \n",
            "-----------------------------------------------------------\n",
            "| epoch  11 |   500/  851 batches | accuracy    0.571\n",
            "-----------------------------------------------------------\n",
            "| end of epoch  11 | time: 15.39s | valid accuracy    0.425 \n",
            "-----------------------------------------------------------\n",
            "| epoch  12 |   500/  851 batches | accuracy    0.571\n",
            "-----------------------------------------------------------\n",
            "| end of epoch  12 | time: 15.52s | valid accuracy    0.425 \n",
            "-----------------------------------------------------------\n",
            "| epoch  13 |   500/  851 batches | accuracy    0.569\n",
            "-----------------------------------------------------------\n",
            "| end of epoch  13 | time: 15.27s | valid accuracy    0.425 \n",
            "-----------------------------------------------------------\n",
            "| epoch  14 |   500/  851 batches | accuracy    0.575\n",
            "-----------------------------------------------------------\n",
            "| end of epoch  14 | time: 15.10s | valid accuracy    0.425 \n",
            "-----------------------------------------------------------\n",
            "| epoch  15 |   500/  851 batches | accuracy    0.568\n",
            "-----------------------------------------------------------\n",
            "| end of epoch  15 | time: 15.14s | valid accuracy    0.425 \n",
            "-----------------------------------------------------------\n",
            "| epoch  16 |   500/  851 batches | accuracy    0.566\n",
            "-----------------------------------------------------------\n",
            "| end of epoch  16 | time: 15.19s | valid accuracy    0.425 \n",
            "-----------------------------------------------------------\n",
            "| epoch  17 |   500/  851 batches | accuracy    0.568\n",
            "-----------------------------------------------------------\n",
            "| end of epoch  17 | time: 16.62s | valid accuracy    0.425 \n",
            "-----------------------------------------------------------\n",
            "| epoch  18 |   500/  851 batches | accuracy    0.569\n",
            "-----------------------------------------------------------\n",
            "| end of epoch  18 | time: 16.60s | valid accuracy    0.425 \n",
            "-----------------------------------------------------------\n",
            "| epoch  19 |   500/  851 batches | accuracy    0.567\n",
            "-----------------------------------------------------------\n",
            "| end of epoch  19 | time: 15.78s | valid accuracy    0.425 \n",
            "-----------------------------------------------------------\n",
            "| epoch  20 |   500/  851 batches | accuracy    0.566\n",
            "-----------------------------------------------------------\n",
            "| end of epoch  20 | time: 15.09s | valid accuracy    0.425 \n",
            "-----------------------------------------------------------\n"
          ]
        }
      ]
    },
    {
      "cell_type": "code",
      "source": [
        "_,y_pred=evaluate(test_dataloader)"
      ],
      "metadata": {
        "id": "eTNeG2fmxZuQ"
      },
      "execution_count": 14,
      "outputs": []
    },
    {
      "cell_type": "code",
      "source": [
        "pred = []\n",
        "true = []\n",
        "for x,y in zip(y_pred,labels):\n",
        "  for l in x:\n",
        "    pred.append(l)\n",
        "  for l in y:\n",
        "    true.append(l)\n"
      ],
      "metadata": {
        "id": "cSX-XMb42N5M"
      },
      "execution_count": 15,
      "outputs": []
    },
    {
      "cell_type": "code",
      "source": [
        "\n",
        "classification_report(pred,true)"
      ],
      "metadata": {
        "colab": {
          "base_uri": "https://localhost:8080/",
          "height": 281
        },
        "id": "MBZ-Bz3F2PSM",
        "outputId": "143bb08a-2d1c-4d07-ea29-e7920f8a4ed4"
      },
      "execution_count": 16,
      "outputs": [
        {
          "output_type": "stream",
          "name": "stderr",
          "text": [
            "/usr/local/lib/python3.10/dist-packages/sklearn/metrics/_classification.py:1344: UndefinedMetricWarning: Recall and F-score are ill-defined and being set to 0.0 in labels with no true samples. Use `zero_division` parameter to control this behavior.\n",
            "  _warn_prf(average, modifier, msg_start, len(result))\n",
            "/usr/local/lib/python3.10/dist-packages/sklearn/metrics/_classification.py:1344: UndefinedMetricWarning: Recall and F-score are ill-defined and being set to 0.0 in labels with no true samples. Use `zero_division` parameter to control this behavior.\n",
            "  _warn_prf(average, modifier, msg_start, len(result))\n",
            "/usr/local/lib/python3.10/dist-packages/sklearn/metrics/_classification.py:1344: UndefinedMetricWarning: Recall and F-score are ill-defined and being set to 0.0 in labels with no true samples. Use `zero_division` parameter to control this behavior.\n",
            "  _warn_prf(average, modifier, msg_start, len(result))\n"
          ]
        },
        {
          "output_type": "execute_result",
          "data": {
            "text/plain": [
              "'              precision    recall  f1-score   support\\n\\n           0       0.00      0.00      0.00         0\\n           1       0.00      0.00      0.00         3\\n           2       0.02      0.12      0.03        24\\n           3       0.82      0.41      0.55      1401\\n           4       0.12      0.21      0.15       205\\n           5       0.02      0.14      0.03        14\\n           6       0.01      0.07      0.02        15\\n           7       0.00      0.00      0.00        40\\n\\n    accuracy                           0.37      1702\\n   macro avg       0.12      0.12      0.10      1702\\nweighted avg       0.69      0.37      0.47      1702\\n'"
            ],
            "application/vnd.google.colaboratory.intrinsic+json": {
              "type": "string"
            }
          },
          "metadata": {},
          "execution_count": 16
        }
      ]
    },
    {
      "cell_type": "code",
      "source": [
        "# true"
      ],
      "metadata": {
        "id": "FKvn9SRo-E9I"
      },
      "execution_count": 17,
      "outputs": []
    },
    {
      "cell_type": "code",
      "source": [
        "with open('c.txt','w') as report:\n",
        "  report.write(classification_report(pred,true))"
      ],
      "metadata": {
        "id": "IDjzrPHO-juz",
        "colab": {
          "base_uri": "https://localhost:8080/"
        },
        "outputId": "7115f19c-de30-4ed4-834b-240aaf761fed"
      },
      "execution_count": 18,
      "outputs": [
        {
          "output_type": "stream",
          "name": "stderr",
          "text": [
            "/usr/local/lib/python3.10/dist-packages/sklearn/metrics/_classification.py:1344: UndefinedMetricWarning: Recall and F-score are ill-defined and being set to 0.0 in labels with no true samples. Use `zero_division` parameter to control this behavior.\n",
            "  _warn_prf(average, modifier, msg_start, len(result))\n",
            "/usr/local/lib/python3.10/dist-packages/sklearn/metrics/_classification.py:1344: UndefinedMetricWarning: Recall and F-score are ill-defined and being set to 0.0 in labels with no true samples. Use `zero_division` parameter to control this behavior.\n",
            "  _warn_prf(average, modifier, msg_start, len(result))\n",
            "/usr/local/lib/python3.10/dist-packages/sklearn/metrics/_classification.py:1344: UndefinedMetricWarning: Recall and F-score are ill-defined and being set to 0.0 in labels with no true samples. Use `zero_division` parameter to control this behavior.\n",
            "  _warn_prf(average, modifier, msg_start, len(result))\n"
          ]
        }
      ]
    },
    {
      "cell_type": "code",
      "source": [
        "confusion_matrix(true, pred)\n",
        "import seaborn as sns\n",
        "sns.heatmap(confusion_matrix(true,pred), annot=True)"
      ],
      "metadata": {
        "id": "-753J7aQ_ofp",
        "colab": {
          "base_uri": "https://localhost:8080/",
          "height": 447
        },
        "outputId": "52798984-3a92-42fd-b1b6-ed1161824c5d"
      },
      "execution_count": 19,
      "outputs": [
        {
          "output_type": "execute_result",
          "data": {
            "text/plain": [
              "<Axes: >"
            ]
          },
          "metadata": {},
          "execution_count": 19
        },
        {
          "output_type": "display_data",
          "data": {
            "text/plain": [
              "<Figure size 640x480 with 2 Axes>"
            ],
            "image/png": "[encoded data removed]"
          },
          "metadata": {}
        }
      ]
    },
    {
      "cell_type": "code",
      "source": [
        "import pandas as pd\n",
        "import numpy as np\n",
        "\n",
        "# Sample confusion matrix (3x3) with numerical labels (0, 1, 2)\n",
        "confusion_matrix = confusion_matrix(true,pred)\n",
        "\n",
        "# Define custom class labels\n",
        "class_labels = [\"disgust\", \"contempt\", \"anger\",\"neutral\",\"joy\",\"sadness\",\"fear\",\"surprise\"]\n",
        "\n",
        "# Create a DataFrame with custom labels\n",
        "confusion_df = pd.DataFrame(confusion_matrix, index=class_labels, columns=class_labels)\n",
        "\n",
        "# Print the confusion matrix with custom class labels\n",
        "print(confusion_df)\n"
      ],
      "metadata": {
        "colab": {
          "base_uri": "https://localhost:8080/"
        },
        "id": "t9fYrbIJbGZs",
        "outputId": "e5695df3-5943-4c33-a37c-ad9b4a2b8258"
      },
      "execution_count": 20,
      "outputs": [
        {
          "output_type": "stream",
          "name": "stdout",
          "text": [
            "          disgust  contempt  anger  neutral  joy  sadness  fear  surprise\n",
            "disgust         0         0      0       25    6        2     0         1\n",
            "contempt        0         0      2       85   14        1     1         3\n",
            "anger           0         0      3      156   24        0     1         1\n",
            "neutral         0         1     12      580   80        7     8        20\n",
            "joy             0         1      4      302   44        2     2        12\n",
            "sadness         0         0      2      100   11        2     0         0\n",
            "fear            0         1      1       91   10        0     1         3\n",
            "surprise        0         0      0       62   16        0     2         0\n"
          ]
        }
      ]
    },
    {
      "cell_type": "code",
      "source": [],
      "metadata": {
        "id": "SJCVQgF2dyM0"
      },
      "execution_count": 20,
      "outputs": []
    }
  ]
}